{
 "cells": [
  {
   "cell_type": "markdown",
   "metadata": {},
   "source": [
    "# Task - Frozen Lake\n",
    "\n",
    "- Brando Reyes\n",
    "- Juan Pablo Solis\n",
    "- Carlos Valladares\n",
    "\n",
    "### **Enlace del Repositorio:**\n",
    "https://github.com/vgcarlol/Corto1_IA\n",
    "\n",
    "### **Enlace Video Demostracion:**\n",
    "https://youtu.be/ZRxwE5320gg"
   ]
  },
  {
   "cell_type": "markdown",
   "metadata": {},
   "source": [
    "Librerías a utilizar:"
   ]
  },
  {
   "cell_type": "code",
   "execution_count": 1,
   "metadata": {},
   "outputs": [],
   "source": [
    "import numpy as np\n",
    "import gymnasium as gym\n",
    "import random\n",
    "import os\n",
    "import matplotlib.pyplot as plt"
   ]
  },
  {
   "cell_type": "markdown",
   "metadata": {},
   "source": []
  },
  {
   "cell_type": "code",
   "execution_count": 2,
   "metadata": {},
   "outputs": [
    {
     "name": "stdout",
     "output_type": "stream",
     "text": [
      "Archivo de tabla Q eliminado para evitar confusiones.\n"
     ]
    }
   ],
   "source": [
    "q_table_file = \"q_table.npy\"\n",
    "\n",
    "if os.path.exists(q_table_file):\n",
    "    os.remove(q_table_file)\n",
    "    print(\"Archivo de tabla Q eliminado para evitar confusiones.\")\n",
    "else:\n",
    "    print(\"No se encontró un archivo de tabla Q existente.\")"
   ]
  },
  {
   "cell_type": "markdown",
   "metadata": {},
   "source": [
    "Se verifica si existe un archivo q_table.npy, que almacena la tabla Q entrenada. Si el archivo existe, lo elimina para evitar confusiones con entrenamientos previos.\n",
    "\n",
    "- os.path.exists(q_table_file): Comprueba si el archivo de la tabla Q ya existe.\n",
    "- os.remove(q_table_file): Si el archivo existe, lo elimina.\n",
    "- Mensajes de impresión:\n",
    "  - Si el archivo existía, informa que se eliminó.\n",
    "  - Si no existía, indica que no se encontró una tabla previa."
   ]
  },
  {
   "cell_type": "markdown",
   "metadata": {},
   "source": [
    "Creación del entorno de FrozekLake con slippery=True (Hielo resbaladizo)"
   ]
  },
  {
   "cell_type": "code",
   "execution_count": 3,
   "metadata": {},
   "outputs": [
    {
     "data": {
      "text/plain": [
       "(0, {'prob': 1})"
      ]
     },
     "execution_count": 3,
     "metadata": {},
     "output_type": "execute_result"
    }
   ],
   "source": [
    "random_seed = random.randint(0, 10000)\n",
    "np.random.seed(random_seed)\n",
    "\n",
    "env = gym.make(\"FrozenLake-v1\", desc=None, map_name=\"4x4\", is_slippery=True, render_mode=None)\n",
    "env.reset(seed=random_seed)\n"
   ]
  },
  {
   "cell_type": "markdown",
   "metadata": {},
   "source": [
    "Se crea el entorno del juego Frozen Lake usando la librería gymnasium.\n",
    "\n",
    "- random_seed = random.randint(0, 10000): Genera una semilla aleatoria para reproducibilidad.\n",
    "- np.random.seed(random_seed): Fija la semilla para que las operaciones aleatorias sean consistentes.\n",
    "- gym.make(\"FrozenLake-v1\", map_name=\"4x4\", is_slippery=True, render_mode=None):\n",
    "  - Crea el entorno de Frozen Lake con un tablero de 4x4.\n",
    "  - is_slippery=True Activa la condición de hielo resbaladizo.\n",
    "  - render_mode=None: No se activa la visualización del entorno.\n",
    "\n",
    "Por ultimo el entorno se reinicia con la semilla generada usando env.reset(seed=random_seed)."
   ]
  },
  {
   "cell_type": "markdown",
   "metadata": {},
   "source": [
    "Parámetros del agente"
   ]
  },
  {
   "cell_type": "code",
   "execution_count": 4,
   "metadata": {},
   "outputs": [],
   "source": [
    "learning_rate = 0.1  # Tasa de aprendizaje\n",
    "gamma = 0.99  # Factor de descuento \n",
    "epsilon = 1.0  # Probabilidad inicial de exploración\n",
    "epsilon_decay = 0.9995  # Factor de decaimiento de epsilon\n",
    "epsilon_min = 0.05  \n",
    "num_episodios = 15000  "
   ]
  },
  {
   "cell_type": "markdown",
   "metadata": {},
   "source": [
    "\n",
    "Se crea la **tabla Q**, que almacena los valores de cada estado-acción"
   ]
  },
  {
   "cell_type": "code",
   "execution_count": 5,
   "metadata": {},
   "outputs": [
    {
     "name": "stdout",
     "output_type": "stream",
     "text": [
      "Nueva tabla Q inicializada.\n"
     ]
    }
   ],
   "source": [
    "tablaQ = np.zeros((env.observation_space.n, env.action_space.n))\n",
    "print(\"Nueva tabla Q inicializada.\")\n"
   ]
  },
  {
   "cell_type": "markdown",
   "metadata": {},
   "source": [
    "Función para elegir una acción con política epsilon-greedy"
   ]
  },
  {
   "cell_type": "code",
   "execution_count": 6,
   "metadata": {},
   "outputs": [],
   "source": [
    "def elegir_accion(state, epsilon):\n",
    "    if np.random.rand() < epsilon:\n",
    "        return env.action_space.sample()  # Exploración\n",
    "    else:\n",
    "        return np.argmax(tablaQ[state, :])  # Explotación\n"
   ]
  },
  {
   "cell_type": "markdown",
   "metadata": {},
   "source": [
    "función decide qué acción tomar en cada estado usando la estrategia **ε-greedy**.\n",
    "\n",
    "- Exploración (con probabilidad **epsilon**)  \n",
    "  - Se elige una acción aleatoria con **env.action_space.sample()**.\n",
    "- Explotación (con probabilidad 1 - **epsilon**)  \n",
    "  - Se elige la mejor acción basada en la tabla Q con **np.argmax(tablaQ[state, :])**."
   ]
  },
  {
   "cell_type": "markdown",
   "metadata": {},
   "source": [
    "Entrenamiento"
   ]
  },
  {
   "cell_type": "code",
   "execution_count": 7,
   "metadata": {},
   "outputs": [
    {
     "name": "stdout",
     "output_type": "stream",
     "text": [
      "Episodio 0 - Éxito: 0.00% - Epsilon: 1.000\n",
      "Episodio 1000 - Éxito: 73.00% - Epsilon: 0.606\n",
      "Episodio 2000 - Éxito: 86.00% - Epsilon: 0.368\n",
      "Episodio 3000 - Éxito: 75.00% - Epsilon: 0.223\n",
      "Episodio 4000 - Éxito: 87.00% - Epsilon: 0.135\n",
      "Episodio 5000 - Éxito: 84.00% - Epsilon: 0.082\n",
      "Episodio 6000 - Éxito: 78.00% - Epsilon: 0.050\n",
      "Episodio 7000 - Éxito: 86.00% - Epsilon: 0.050\n",
      "Episodio 8000 - Éxito: 79.00% - Epsilon: 0.050\n",
      "Episodio 9000 - Éxito: 81.00% - Epsilon: 0.050\n",
      "Episodio 10000 - Éxito: 79.00% - Epsilon: 0.050\n",
      "Episodio 11000 - Éxito: 90.00% - Epsilon: 0.050\n",
      "Episodio 12000 - Éxito: 85.00% - Epsilon: 0.050\n",
      "Episodio 13000 - Éxito: 77.00% - Epsilon: 0.050\n",
      "Episodio 14000 - Éxito: 85.00% - Epsilon: 0.050\n",
      "Tabla Q guardada.\n"
     ]
    }
   ],
   "source": [
    "success_rates = []  \n",
    "avg_rewards = []  \n",
    "\n",
    "for episode in range(num_episodios):\n",
    "    estado, _ = env.reset()\n",
    "    done = False\n",
    "    total_reward = 0\n",
    "    \n",
    "    while not done:\n",
    "        accion = elegir_accion(estado, epsilon)\n",
    "        siguiente_estado, recompensa, done, _, _ = env.step(accion)\n",
    "\n",
    "        \n",
    "        if done:\n",
    "            if recompensa == 1:\n",
    "                recompensa = 10  \n",
    "            else:\n",
    "                recompensa = -1  \n",
    "\n",
    "        \n",
    "        tablaQ[estado, accion] = tablaQ[estado, accion] + learning_rate * (\n",
    "            recompensa + gamma * np.max(tablaQ[siguiente_estado, :]) - tablaQ[estado, accion]\n",
    "        )\n",
    "\n",
    "        estado = siguiente_estado\n",
    "        total_reward += recompensa\n",
    "\n",
    "    \n",
    "    epsilon = max(epsilon * epsilon_decay, epsilon_min)\n",
    "    \n",
    "    \n",
    "    if episode % 1000 == 0:\n",
    "        success_count = 0\n",
    "        total_rewards = 0\n",
    "        for _ in range(100):\n",
    "            state, _ = env.reset()\n",
    "            done = False\n",
    "            episode_reward = 0\n",
    "            \n",
    "            while not done:\n",
    "                action = np.argmax(tablaQ[state, :])  \n",
    "                state, reward, done, _, _ = env.step(action)\n",
    "                episode_reward += reward\n",
    "            \n",
    "            total_rewards += episode_reward\n",
    "            if episode_reward > 0:\n",
    "                success_count += 1\n",
    "        \n",
    "        success_rate = (success_count / 100) * 100\n",
    "        avg_reward = total_rewards / 100\n",
    "        success_rates.append(success_rate)\n",
    "        avg_rewards.append(avg_reward)\n",
    "        print(f\"Episodio {episode} - Éxito: {success_rate:.2f}% - Epsilon: {epsilon:.3f}\")\n",
    "\n",
    "\n",
    "np.save(q_table_file, tablaQ)\n",
    "print(\"Tabla Q guardada.\")\n"
   ]
  },
  {
   "cell_type": "markdown",
   "metadata": {},
   "source": [
    "El entrenamiento de un agente en Frozen Lake usando Q-learning durante 15,000 episodios. \n",
    "En cada episodio, el entorno se reinicia y el agente selecciona acciones con una estrategia ε-greedy, explorando al inicio y conforme avanza el entrenamiento. \n",
    "La tabla Q se actualiza en cada paso usando la ecuación de aprendizaje por refuerzo. \n",
    "Cada 1000 episodios, el agente es evaluado y se registran métricas de éxito y recompensa. \n",
    "Al finalizar, la tabla Q entrenada se guarda para su posterior uso. "
   ]
  },
  {
   "cell_type": "code",
   "execution_count": 8,
   "metadata": {},
   "outputs": [
    {
     "data": {
      "image/png": "[encoded data removed]",
      "text/plain": [
       "<Figure size 1200x500 with 2 Axes>"
      ]
     },
     "metadata": {},
     "output_type": "display_data"
    }
   ],
   "source": [
    "plt.figure(figsize=(12, 5))\n",
    "plt.subplot(1, 2, 1)\n",
    "plt.plot(range(0, num_episodios, 1000), success_rates)\n",
    "plt.xlabel(\"Episodios\")\n",
    "plt.ylabel(\"Tasa de éxito (%)\")\n",
    "plt.title(\"Evolución de la tasa de éxito\")\n",
    "\n",
    "plt.subplot(1, 2, 2)\n",
    "plt.plot(range(0, num_episodios, 1000), avg_rewards)\n",
    "plt.xlabel(\"Episodios\")\n",
    "plt.ylabel(\"Recompensa media\")\n",
    "plt.title(\"Evolución de la recompensa media\")\n",
    "plt.show()\n"
   ]
  },
  {
   "cell_type": "markdown",
   "metadata": {},
   "source": [
    "Gráfica Evolución de la tasa de éxito (%)\n",
    "\n",
    " - Representa el porcentaje de veces que el agente logra llegar a la meta sin caer en un agujero.\n",
    " - Al inicio, la tasa de éxito es baja porque el agente está explorando y aún no ha aprendido una estrategia efectiva.\n",
    " - Con el tiempo, la tasa de éxito aumenta rápidamente (~80% después de 2000 episodios).\n",
    " - Se mantiene estable con pequeñas fluctuaciones, lo que indica que el agente ha aprendido una estrategia sólida pero con cierto margen de error.\n",
    "\n",
    "Gráfica Evolución de la recompensa media\n",
    "\n",
    " - Muestra el promedio de recompensas obtenidas en cada bloque de 1000 episodios.\n",
    " - Al inicio, el valor es bajo porque el agente aún no sabe qué acciones maximizar.\n",
    " - Luego, aumenta rápidamente (~0.8) y se mantiene estable, indicando que el agente está obteniendo recompensas de manera consistente."
   ]
  },
  {
   "cell_type": "markdown",
   "metadata": {},
   "source": [
    "Evaluación del agente"
   ]
  },
  {
   "cell_type": "code",
   "execution_count": 9,
   "metadata": {},
   "outputs": [
    {
     "name": "stdout",
     "output_type": "stream",
     "text": [
      "Tasa de éxito final: 81.00%\n",
      "Recompensa media final: 0.81\n"
     ]
    }
   ],
   "source": [
    "def evaluate_agent(num_tests=100):\n",
    "    success_count = 0\n",
    "    total_rewards = 0\n",
    "    \n",
    "    for _ in range(num_tests):\n",
    "        state, _ = env.reset()\n",
    "        done = False\n",
    "        episode_reward = 0\n",
    "        \n",
    "        while not done:\n",
    "            action = np.argmax(tablaQ[state, :])  \n",
    "            state, reward, done, _, _ = env.step(action)\n",
    "            episode_reward += reward\n",
    "        \n",
    "        total_rewards += episode_reward\n",
    "        if episode_reward > 0:  \n",
    "            success_count += 1\n",
    "    \n",
    "    success_rate = success_count / num_tests * 100\n",
    "    avg_reward = total_rewards / num_tests\n",
    "    \n",
    "    print(f\"Tasa de éxito final: {success_rate:.2f}%\")\n",
    "    print(f\"Recompensa media final: {avg_reward:.2f}\")\n",
    "\n",
    "\n",
    "evaluate_agent()\n"
   ]
  },
  {
   "cell_type": "markdown",
   "metadata": {},
   "source": [
    "LLa tasa de éxito (%) indica cuántas veces logra llegar a la meta, mientras que la recompensa media refleja qué tan eficiente es su estrategia. \n",
    "Inicialmente, el agente falla mucho, pero tras explorar y aprender, alcanza un 81% de éxito y una recompensa estable de 0.81, demostrando que ha desarrollado una estrategia efectiva"
   ]
  },
  {
   "cell_type": "code",
   "execution_count": 12,
   "metadata": {},
   "outputs": [
    {
     "name": "stdout",
     "output_type": "stream",
     "text": [
      "\n",
      "Mostrando cómo juega el agente...\n"
     ]
    }
   ],
   "source": [
    "def play_agent():\n",
    "    env_render = gym.make(\"FrozenLake-v1\", desc=None, map_name=\"4x4\", is_slippery=True, render_mode=\"human\")\n",
    "    state, _ = env_render.reset()\n",
    "    done = False\n",
    "    \n",
    "    while not done:\n",
    "        action = np.argmax(tablaQ[state, :])\n",
    "        state, _, done, _, _ = env_render.step(action)\n",
    "    \n",
    "    env_render.close()\n",
    "\n",
    "print(\"\\nMostrando cómo juega el agente...\")\n",
    "play_agent()\n"
   ]
  }
 ],
 "metadata": {
  "kernelspec": {
   "display_name": "Python 3",
   "language": "python",
   "name": "python3"
  },
  "language_info": {
   "codemirror_mode": {
    "name": "ipython",
    "version": 3
   },
   "file_extension": ".py",
   "mimetype": "text/x-python",
   "name": "python",
   "nbconvert_exporter": "python",
   "pygments_lexer": "ipython3",
   "version": "3.12.6"
  }
 },
 "nbformat": 4,
 "nbformat_minor": 2
}
